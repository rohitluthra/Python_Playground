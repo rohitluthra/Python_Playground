{
 "cells": [
  {
   "cell_type": "markdown",
   "metadata": {
    "graffitiCellId": "id_46ikwkw"
   },
   "source": [
    "### Problem Statement\n",
    "\n",
    "\n",
    "Given an integer array, find and return all the subsets of the array.\n",
    "The order of subsets in the output array is not important. However the order of elements in a particular subset should remain the same as in the input array.\n",
    "\n",
    "*Note: An empty set will be represented by an empty list*\n",
    "\n",
    "**Example 1**\n",
    "\n",
    "```\n",
    "arr = [9]\n",
    "\n",
    "output = [[]\n",
    "          [9]]\n",
    "```\n",
    "\n",
    "**Example 2**\n",
    "\n",
    "```\n",
    "arr = [9, 12, 15]\n",
    "\n",
    "output =  [[],\n",
    "           [15],\n",
    "           [12],\n",
    "           [12, 15],\n",
    "           [9],\n",
    "           [9, 15],\n",
    "           [9, 12],\n",
    "           [9, 12, 15]]\n",
    "```"
   ]
  },
  {
   "cell_type": "code",
   "execution_count": 63,
   "metadata": {
    "graffitiCellId": "id_ednyqq0"
   },
   "outputs": [],
   "source": [
    "\n",
    "def subsets(arr):\n",
    "    return return_subsets(arr, 0)\n",
    "\n",
    "def return_subsets(arr, index):\n",
    "    if index >= len(arr):\n",
    "        return [[]]\n",
    "\n",
    "    small_output = return_subsets(arr, index + 1)\n",
    "    print(small_output)\n",
    "    output = list()\n",
    "    \n",
    "    # append existing subsets\n",
    "    for element in small_output:\n",
    "        output.append(element)\n",
    "    print(output)\n",
    "    # add current elements to existing subsets and add them to the output\n",
    "    for element in small_output:\n",
    "        current = list()\n",
    "        current.append(arr[index])\n",
    "        current.extend(element)\n",
    "        output.append(current)\n",
    "    print(output)\n",
    "    return output"
   ]
  },
  {
   "cell_type": "code",
   "execution_count": 64,
   "metadata": {
    "graffitiCellId": "id_lov2dw6"
   },
   "outputs": [],
   "source": [
    "def test_function(test_case):\n",
    "    arr = test_case[0]\n",
    "    solution = test_case[1]\n",
    "    \n",
    "    output = subsets(arr)\n",
    "        \n",
    "    output.sort()\n",
    "    solution.sort()\n",
    "    \n",
    "    if output == solution:\n",
    "        print(\"Pass\")\n",
    "    else:\n",
    "        print(\"Fail\")    "
   ]
  },
  {
   "cell_type": "code",
   "execution_count": 65,
   "metadata": {
    "graffitiCellId": "id_vtr8t48"
   },
   "outputs": [
    {
     "name": "stdout",
     "output_type": "stream",
     "text": [
      "[[]]\n",
      "[[]]\n",
      "[[], [9]]\n",
      "Pass\n"
     ]
    }
   ],
   "source": [
    "arr = [9]\n",
    "solution = [[], [9]]\n",
    "\n",
    "test_case = [arr, solution]\n",
    "test_function(test_case)"
   ]
  },
  {
   "cell_type": "code",
   "execution_count": 66,
   "metadata": {
    "graffitiCellId": "id_hox5lyf"
   },
   "outputs": [
    {
     "name": "stdout",
     "output_type": "stream",
     "text": [
      "[[]]\n",
      "[[]]\n",
      "[[], [7]]\n",
      "[[], [7]]\n",
      "[[], [7]]\n",
      "[[], [7], [5], [5, 7]]\n",
      "Pass\n"
     ]
    }
   ],
   "source": [
    "arr = [5, 7]\n",
    "solution = [[], [7], [5], [5, 7]]\n",
    "test_case = [arr, solution]\n",
    "test_function(test_case)"
   ]
  },
  {
   "cell_type": "code",
   "execution_count": 67,
   "metadata": {
    "graffitiCellId": "id_ufx2e38"
   },
   "outputs": [
    {
     "name": "stdout",
     "output_type": "stream",
     "text": [
      "[[]]\n",
      "[[]]\n",
      "[[], [15]]\n",
      "[[], [15]]\n",
      "[[], [15]]\n",
      "[[], [15], [12], [12, 15]]\n",
      "[[], [15], [12], [12, 15]]\n",
      "[[], [15], [12], [12, 15]]\n",
      "[[], [15], [12], [12, 15], [9], [9, 15], [9, 12], [9, 12, 15]]\n",
      "Pass\n"
     ]
    }
   ],
   "source": [
    "arr = [9, 12, 15]\n",
    "solution = [[], [15], [12], [12, 15], [9], [9, 15], [9, 12], [9, 12, 15]]\n",
    "\n",
    "test_case = [arr, solution]\n",
    "test_function(test_case)"
   ]
  },
  {
   "cell_type": "code",
   "execution_count": 57,
   "metadata": {
    "graffitiCellId": "id_4h3wfx7"
   },
   "outputs": [
    {
     "name": "stdout",
     "output_type": "stream",
     "text": [
      "Pass\n"
     ]
    }
   ],
   "source": [
    "arr = [9, 8, 9, 8]\n",
    "solution = [[],\n",
    "[8],\n",
    "[9],\n",
    "[9, 8],\n",
    "[8],\n",
    "[8, 8],\n",
    "[8, 9],\n",
    "[8, 9, 8],\n",
    "[9],\n",
    "[9, 8],\n",
    "[9, 9],\n",
    "[9, 9, 8],\n",
    "[9, 8],\n",
    "[9, 8, 8],\n",
    "[9, 8, 9],\n",
    "[9, 8, 9, 8]]\n",
    "\n",
    "test_case = [arr, solution]\n",
    "test_function(test_case)"
   ]
  }
 ],
 "metadata": {
  "graffiti": {
   "firstAuthorId": "dev",
   "id": "id_0z6x8e1",
   "language": "EN"
  },
  "kernelspec": {
   "display_name": "Python 3",
   "language": "python",
   "name": "python3"
  },
  "language_info": {
   "codemirror_mode": {
    "name": "ipython",
    "version": 3
   },
   "file_extension": ".py",
   "mimetype": "text/x-python",
   "name": "python",
   "nbconvert_exporter": "python",
   "pygments_lexer": "ipython3",
   "version": "3.6.3"
  }
 },
 "nbformat": 4,
 "nbformat_minor": 2
}
